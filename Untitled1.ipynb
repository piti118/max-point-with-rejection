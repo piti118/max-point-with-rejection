{
 "cells": [
  {
   "cell_type": "code",
   "execution_count": 3,
   "id": "a8346def",
   "metadata": {
    "ExecuteTime": {
     "end_time": "2022-06-02T18:24:59.764729Z",
     "start_time": "2022-06-02T18:24:59.749033Z"
    }
   },
   "outputs": [
    {
     "data": {
      "text/plain": [
       "array([[-0.        ],\n",
       "       [ 0.70710678],\n",
       "       [-0.70710678]])"
      ]
     },
     "execution_count": 3,
     "metadata": {},
     "output_type": "execute_result"
    }
   ],
   "source": [
    "import numpy as np\n",
    "A = np.array(\n",
    "    [\n",
    "        [0, 1, 1.],\n",
    "        [1, 0, 0],\n",
    "        [1, 0, 0]\n",
    "    ])\n",
    "\n",
    "from scipy.linalg import null_space\n",
    "null_space(A)"
   ]
  },
  {
   "cell_type": "code",
   "execution_count": 7,
   "id": "81122ba7",
   "metadata": {
    "ExecuteTime": {
     "end_time": "2022-06-02T18:26:09.853912Z",
     "start_time": "2022-06-02T18:26:09.852050Z"
    }
   },
   "outputs": [],
   "source": [
    "x = np.array([[1,0,0]]).T"
   ]
  },
  {
   "cell_type": "code",
   "execution_count": 8,
   "id": "b2b4246b",
   "metadata": {
    "ExecuteTime": {
     "end_time": "2022-06-02T18:26:11.132361Z",
     "start_time": "2022-06-02T18:26:11.127548Z"
    }
   },
   "outputs": [
    {
     "data": {
      "text/plain": [
       "array([[0.]])"
      ]
     },
     "execution_count": 8,
     "metadata": {},
     "output_type": "execute_result"
    }
   ],
   "source": [
    "x.T @ (A @ x)"
   ]
  },
  {
   "cell_type": "code",
   "execution_count": 9,
   "id": "00b76d6a",
   "metadata": {
    "ExecuteTime": {
     "end_time": "2022-06-02T18:26:43.813580Z",
     "start_time": "2022-06-02T18:26:43.810737Z"
    }
   },
   "outputs": [
    {
     "data": {
      "text/plain": [
       "array([[2.]])"
      ]
     },
     "execution_count": 9,
     "metadata": {},
     "output_type": "execute_result"
    }
   ],
   "source": [
    "x = np.array([[1,1,0]]).T\n",
    "x.T @ (A @ x)"
   ]
  },
  {
   "cell_type": "code",
   "execution_count": 10,
   "id": "db45e348",
   "metadata": {
    "ExecuteTime": {
     "end_time": "2022-06-02T18:29:22.045957Z",
     "start_time": "2022-06-02T18:29:22.028771Z"
    }
   },
   "outputs": [
    {
     "ename": "LinAlgError",
     "evalue": "1-th leading minor of the array is not positive definite",
     "output_type": "error",
     "traceback": [
      "\u001b[0;31m---------------------------------------------------------------------------\u001b[0m",
      "\u001b[0;31mLinAlgError\u001b[0m                               Traceback (most recent call last)",
      "\u001b[0;32m<ipython-input-10-88c6c623d105>\u001b[0m in \u001b[0;36m<module>\u001b[0;34m\u001b[0m\n\u001b[1;32m      1\u001b[0m \u001b[0;32mfrom\u001b[0m \u001b[0mscipy\u001b[0m\u001b[0;34m.\u001b[0m\u001b[0mlinalg\u001b[0m \u001b[0;32mimport\u001b[0m \u001b[0mcholesky\u001b[0m\u001b[0;34m\u001b[0m\u001b[0;34m\u001b[0m\u001b[0m\n\u001b[1;32m      2\u001b[0m \u001b[0;34m\u001b[0m\u001b[0m\n\u001b[0;32m----> 3\u001b[0;31m \u001b[0mcholesky\u001b[0m\u001b[0;34m(\u001b[0m\u001b[0mA\u001b[0m\u001b[0;34m)\u001b[0m\u001b[0;34m\u001b[0m\u001b[0;34m\u001b[0m\u001b[0m\n\u001b[0m",
      "\u001b[0;32m~/Library/Python/3.7/lib/python/site-packages/scipy/linalg/decomp_cholesky.py\u001b[0m in \u001b[0;36mcholesky\u001b[0;34m(a, lower, overwrite_a, check_finite)\u001b[0m\n\u001b[1;32m     89\u001b[0m     \"\"\"\n\u001b[1;32m     90\u001b[0m     c, lower = _cholesky(a, lower=lower, overwrite_a=overwrite_a, clean=True,\n\u001b[0;32m---> 91\u001b[0;31m                          check_finite=check_finite)\n\u001b[0m\u001b[1;32m     92\u001b[0m     \u001b[0;32mreturn\u001b[0m \u001b[0mc\u001b[0m\u001b[0;34m\u001b[0m\u001b[0;34m\u001b[0m\u001b[0m\n\u001b[1;32m     93\u001b[0m \u001b[0;34m\u001b[0m\u001b[0m\n",
      "\u001b[0;32m~/Library/Python/3.7/lib/python/site-packages/scipy/linalg/decomp_cholesky.py\u001b[0m in \u001b[0;36m_cholesky\u001b[0;34m(a, lower, overwrite_a, clean, check_finite)\u001b[0m\n\u001b[1;32m     38\u001b[0m     \u001b[0;32mif\u001b[0m \u001b[0minfo\u001b[0m \u001b[0;34m>\u001b[0m \u001b[0;36m0\u001b[0m\u001b[0;34m:\u001b[0m\u001b[0;34m\u001b[0m\u001b[0;34m\u001b[0m\u001b[0m\n\u001b[1;32m     39\u001b[0m         raise LinAlgError(\"%d-th leading minor of the array is not positive \"\n\u001b[0;32m---> 40\u001b[0;31m                           \"definite\" % info)\n\u001b[0m\u001b[1;32m     41\u001b[0m     \u001b[0;32mif\u001b[0m \u001b[0minfo\u001b[0m \u001b[0;34m<\u001b[0m \u001b[0;36m0\u001b[0m\u001b[0;34m:\u001b[0m\u001b[0;34m\u001b[0m\u001b[0;34m\u001b[0m\u001b[0m\n\u001b[1;32m     42\u001b[0m         raise ValueError('LAPACK reported an illegal value in {}-th argument'\n",
      "\u001b[0;31mLinAlgError\u001b[0m: 1-th leading minor of the array is not positive definite"
     ]
    }
   ],
   "source": [
    "from scipy.linalg import cholesky\n",
    "\n",
    "cholesky(A)"
   ]
  },
  {
   "cell_type": "code",
   "execution_count": 11,
   "id": "2ab179b3",
   "metadata": {
    "ExecuteTime": {
     "end_time": "2022-06-02T18:32:44.219104Z",
     "start_time": "2022-06-02T18:32:44.217040Z"
    }
   },
   "outputs": [],
   "source": [
    "from scipy.linalg import sqrtm"
   ]
  },
  {
   "cell_type": "code",
   "execution_count": 15,
   "id": "1fba1bdc",
   "metadata": {
    "ExecuteTime": {
     "end_time": "2022-06-02T18:33:09.211360Z",
     "start_time": "2022-06-02T18:33:09.209046Z"
    }
   },
   "outputs": [],
   "source": [
    "sa = sqrtm(A)"
   ]
  },
  {
   "cell_type": "code",
   "execution_count": 19,
   "id": "aa1bf1d3",
   "metadata": {
    "ExecuteTime": {
     "end_time": "2022-06-02T18:34:06.057430Z",
     "start_time": "2022-06-02T18:34:06.049637Z"
    }
   },
   "outputs": [
    {
     "data": {
      "text/plain": [
       "array([[ 0. -0.j ],\n",
       "       [ 0.5-0.5j],\n",
       "       [-0.5+0.5j]])"
      ]
     },
     "execution_count": 19,
     "metadata": {},
     "output_type": "execute_result"
    }
   ],
   "source": [
    "null_space(sa)"
   ]
  },
  {
   "cell_type": "code",
   "execution_count": 20,
   "id": "3812b35a",
   "metadata": {
    "ExecuteTime": {
     "end_time": "2022-06-02T18:36:14.241165Z",
     "start_time": "2022-06-02T18:36:14.236474Z"
    }
   },
   "outputs": [
    {
     "data": {
      "text/plain": [
       "array([[0.59460356+0.59460356j],\n",
       "       [0.42044821-0.42044821j],\n",
       "       [0.42044821-0.42044821j]])"
      ]
     },
     "execution_count": 20,
     "metadata": {},
     "output_type": "execute_result"
    }
   ],
   "source": [
    "x = np.array([[1,0,0]]).T\n",
    "sa @ x"
   ]
  },
  {
   "cell_type": "code",
   "execution_count": 22,
   "id": "c4dab19d",
   "metadata": {
    "ExecuteTime": {
     "end_time": "2022-06-02T18:36:45.908269Z",
     "start_time": "2022-06-02T18:36:45.904859Z"
    }
   },
   "outputs": [
    {
     "data": {
      "text/plain": [
       "array([[0.+1.11022302e-16j]])"
      ]
     },
     "execution_count": 22,
     "metadata": {},
     "output_type": "execute_result"
    }
   ],
   "source": [
    "(x.T @ sa.T) @ (sa @ x)"
   ]
  },
  {
   "cell_type": "code",
   "execution_count": null,
   "id": "b99f236b",
   "metadata": {},
   "outputs": [],
   "source": []
  }
 ],
 "metadata": {
  "hide_input": false,
  "kernelspec": {
   "display_name": "Python 3",
   "language": "python",
   "name": "python3"
  },
  "language_info": {
   "codemirror_mode": {
    "name": "ipython",
    "version": 3
   },
   "file_extension": ".py",
   "mimetype": "text/x-python",
   "name": "python",
   "nbconvert_exporter": "python",
   "pygments_lexer": "ipython3",
   "version": "3.7.3"
  },
  "toc": {
   "colors": {
    "hover_highlight": "#DAA520",
    "running_highlight": "#FF0000",
    "selected_highlight": "#FFD700"
   },
   "moveMenuLeft": true,
   "nav_menu": {
    "height": "11.9886px",
    "width": "251.989px"
   },
   "navigate_menu": true,
   "number_sections": false,
   "sideBar": true,
   "threshold": 4,
   "toc_cell": false,
   "toc_section_display": "block",
   "toc_window_display": false
  }
 },
 "nbformat": 4,
 "nbformat_minor": 5
}
